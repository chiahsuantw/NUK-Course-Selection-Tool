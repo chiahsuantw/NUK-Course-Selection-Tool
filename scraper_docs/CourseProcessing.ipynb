{
 "cells": [
  {
   "cell_type": "markdown",
   "metadata": {},
   "source": [
    "## 所需套件\n",
    "* pandas\n",
    "* json"
   ]
  },
  {
   "cell_type": "code",
   "execution_count": 11,
   "metadata": {},
   "outputs": [],
   "source": [
    "import pandas as pd\n",
    "import json"
   ]
  },
  {
   "cell_type": "code",
   "execution_count": 12,
   "metadata": {},
   "outputs": [],
   "source": [
    "# 開啟爬好的資料，將檔案轉成 dict\n",
    "jsonObj = open('Allcourse.json','r', encoding='utf-8')\n",
    "data = json.load(jsonObj)"
   ]
  },
  {
   "cell_type": "markdown",
   "metadata": {},
   "source": [
    "## 亂碼老師"
   ]
  },
  {
   "cell_type": "markdown",
   "metadata": {},
   "source": [
    "* 微積分(一)                     童士��  --> 童士恒\n",
    "* 勞動法概論     2     A         康�Y銘  --> 康倈銘\n",
    "* 物件導向程式設計     2     A   黃健�Y --> 黃健倈\n",
    "* 建築設計(五)A     3     A      陳�C仁 --> 陳䳭仁\n",
    "* 生物化學(二)     3     A      王�痗� --> 王恒隆\n",
    "* 體育                          黃�~蔚  --> 黃冸蔚"
   ]
  },
  {
   "cell_type": "markdown",
   "metadata": {},
   "source": [
    "## 製作Dataframe"
   ]
  },
  {
   "cell_type": "code",
   "execution_count": 13,
   "metadata": {},
   "outputs": [
    {
     "output_type": "execute_result",
     "data": {
      "text/plain": [
       "       id dept      name grade class teacher  \\\n",
       "0  AMA01B   AM    微積分（二）     1     A     劉青松   \n",
       "1  AMA02B   AM   線性代數（二）     1     A     梁育豪   \n",
       "2  AMA03B   AM   基礎數學（二）     1     A     施信宏   \n",
       "3  AMA05B   AM   數學實習（二）     1     A     劉青松   \n",
       "4  AMA112   AM      程式設計     1     A     洪丞輝   \n",
       "\n",
       "                             period  category credit  location  \n",
       "0  [[2, 3], [2, 4], [4, 3], [4, 4]]      True      4   C02-406  \n",
       "1          [[2, 1], [2, 2], [3, 2]]      True      3   C02-407  \n",
       "2          [[3, 3], [3, 4], [4, 1]]      True      3   C02-407  \n",
       "3                  [[4, 6], [4, 7]]     False      1   C02-406  \n",
       "4          [[1, 2], [1, 3], [1, 4]]      True      3  C02-B101  "
      ],
      "text/html": "<div>\n<style scoped>\n    .dataframe tbody tr th:only-of-type {\n        vertical-align: middle;\n    }\n\n    .dataframe tbody tr th {\n        vertical-align: top;\n    }\n\n    .dataframe thead th {\n        text-align: right;\n    }\n</style>\n<table border=\"1\" class=\"dataframe\">\n  <thead>\n    <tr style=\"text-align: right;\">\n      <th></th>\n      <th>id</th>\n      <th>dept</th>\n      <th>name</th>\n      <th>grade</th>\n      <th>class</th>\n      <th>teacher</th>\n      <th>period</th>\n      <th>category</th>\n      <th>credit</th>\n      <th>location</th>\n    </tr>\n  </thead>\n  <tbody>\n    <tr>\n      <th>0</th>\n      <td>AMA01B</td>\n      <td>AM</td>\n      <td>微積分（二）</td>\n      <td>1</td>\n      <td>A</td>\n      <td>劉青松</td>\n      <td>[[2, 3], [2, 4], [4, 3], [4, 4]]</td>\n      <td>True</td>\n      <td>4</td>\n      <td>C02-406</td>\n    </tr>\n    <tr>\n      <th>1</th>\n      <td>AMA02B</td>\n      <td>AM</td>\n      <td>線性代數（二）</td>\n      <td>1</td>\n      <td>A</td>\n      <td>梁育豪</td>\n      <td>[[2, 1], [2, 2], [3, 2]]</td>\n      <td>True</td>\n      <td>3</td>\n      <td>C02-407</td>\n    </tr>\n    <tr>\n      <th>2</th>\n      <td>AMA03B</td>\n      <td>AM</td>\n      <td>基礎數學（二）</td>\n      <td>1</td>\n      <td>A</td>\n      <td>施信宏</td>\n      <td>[[3, 3], [3, 4], [4, 1]]</td>\n      <td>True</td>\n      <td>3</td>\n      <td>C02-407</td>\n    </tr>\n    <tr>\n      <th>3</th>\n      <td>AMA05B</td>\n      <td>AM</td>\n      <td>數學實習（二）</td>\n      <td>1</td>\n      <td>A</td>\n      <td>劉青松</td>\n      <td>[[4, 6], [4, 7]]</td>\n      <td>False</td>\n      <td>1</td>\n      <td>C02-406</td>\n    </tr>\n    <tr>\n      <th>4</th>\n      <td>AMA112</td>\n      <td>AM</td>\n      <td>程式設計</td>\n      <td>1</td>\n      <td>A</td>\n      <td>洪丞輝</td>\n      <td>[[1, 2], [1, 3], [1, 4]]</td>\n      <td>True</td>\n      <td>3</td>\n      <td>C02-B101</td>\n    </tr>\n  </tbody>\n</table>\n</div>"
     },
     "metadata": {},
     "execution_count": 13
    }
   ],
   "source": [
    "courses = []    # 課程列\n",
    "for d in data:\n",
    "    d = pd.Series(d)\n",
    "    courses.append(d)\n",
    "\n",
    "df_allCourse = pd.DataFrame(courses)    # 組成 DataFrame\n",
    "df_allCourse.head()                     # 試一下結果"
   ]
  },
  {
   "cell_type": "code",
   "execution_count": 14,
   "metadata": {},
   "outputs": [
    {
     "output_type": "execute_result",
     "data": {
      "text/plain": [
       "         id dept    name grade class teacher              period  category  \\\n",
       "365  GR0102   GR   中文(下)     1     A     賴素玫    [[1, 5], [1, 6]]      True   \n",
       "366  GR0202   GR   中文(下)     1     A     賴素玫    [[1, 7], [1, 8]]      True   \n",
       "367  GR0302   GR   中文(下)     1     A     白崢勇    [[1, 5], [1, 6]]      True   \n",
       "368  GR0402   GR   中文(下)     1     A     賴素玫    [[3, 5], [3, 6]]      True   \n",
       "369  GR0502   GR   中文(下)     1     A     賴素玫    [[3, 7], [3, 8]]      True   \n",
       "370  GR0602   GR   中文(下)     1     A     高美芸    [[4, 5], [4, 6]]      True   \n",
       "371  GR0702   GR   中文(下)     1     A     趙翊彤    [[1, 5], [1, 6]]      True   \n",
       "372  GR1702   GR   中文(下)     1     A     趙翊彤    [[1, 7], [1, 8]]      True   \n",
       "373  GR2102   GR   中文(下)     1     A     林于盛    [[3, 1], [3, 2]]      True   \n",
       "374  GR2202   GR   中文(下)     1     A     林于盛    [[3, 3], [3, 4]]      True   \n",
       "375  GR2302   GR   中文(下)     1     A     陳猷青    [[5, 5], [5, 6]]      True   \n",
       "376  GR3102   GR   中文(下)     1     A     黃淑瑮    [[3, 7], [3, 8]]      True   \n",
       "377  GR3202   GR   中文(下)     1     A     蔡文彥    [[3, 5], [3, 6]]      True   \n",
       "378  GR3302   GR   中文(下)     1     A     蔡文彥    [[5, 1], [5, 2]]      True   \n",
       "379  GR4102   GR   中文(下)     1     A     郭國泰    [[4, 3], [4, 4]]      True   \n",
       "380  GR4202   GR   中文(下)     1     A     郭國泰    [[4, 5], [4, 6]]      True   \n",
       "381  GR5302   GR   中文(下)     1     A     白崢勇    [[3, 5], [3, 6]]      True   \n",
       "382  GR5402   GR   中文(下)     1     A     白崢勇    [[3, 7], [3, 8]]      True   \n",
       "383  GR5502   GR   中文(下)     1     A     喻緒琪   [[1, 9], [1, 10]]      True   \n",
       "384  GR5602   GR   中文(下)     1     A     喻緒琪  [[1, 11], [1, 12]]      True   \n",
       "385  GR6302   GR   中文(下)     1     A     許正平    [[3, 5], [3, 6]]      True   \n",
       "\n",
       "    credit location  \n",
       "365      2  M01-204  \n",
       "366      2  M01-204  \n",
       "367      2  B01-106  \n",
       "368      2  L02-101  \n",
       "369      2  L02-101  \n",
       "370      2  L01-101  \n",
       "371      2  B01-103  \n",
       "372      2  B01-103  \n",
       "373      2  B01-107  \n",
       "374      2  B01-107  \n",
       "375      2  B01-108  \n",
       "376      2  B01-107  \n",
       "377      2  B01-108  \n",
       "378      2  B01-108  \n",
       "379      2  B01-107  \n",
       "380      2  B01-107  \n",
       "381      2  B01-106  \n",
       "382      2  B01-106  \n",
       "383      2  B01-108  \n",
       "384      2  B01-108  \n",
       "385      2  M01-102  "
      ],
      "text/html": "<div>\n<style scoped>\n    .dataframe tbody tr th:only-of-type {\n        vertical-align: middle;\n    }\n\n    .dataframe tbody tr th {\n        vertical-align: top;\n    }\n\n    .dataframe thead th {\n        text-align: right;\n    }\n</style>\n<table border=\"1\" class=\"dataframe\">\n  <thead>\n    <tr style=\"text-align: right;\">\n      <th></th>\n      <th>id</th>\n      <th>dept</th>\n      <th>name</th>\n      <th>grade</th>\n      <th>class</th>\n      <th>teacher</th>\n      <th>period</th>\n      <th>category</th>\n      <th>credit</th>\n      <th>location</th>\n    </tr>\n  </thead>\n  <tbody>\n    <tr>\n      <th>365</th>\n      <td>GR0102</td>\n      <td>GR</td>\n      <td>中文(下)</td>\n      <td>1</td>\n      <td>A</td>\n      <td>賴素玫</td>\n      <td>[[1, 5], [1, 6]]</td>\n      <td>True</td>\n      <td>2</td>\n      <td>M01-204</td>\n    </tr>\n    <tr>\n      <th>366</th>\n      <td>GR0202</td>\n      <td>GR</td>\n      <td>中文(下)</td>\n      <td>1</td>\n      <td>A</td>\n      <td>賴素玫</td>\n      <td>[[1, 7], [1, 8]]</td>\n      <td>True</td>\n      <td>2</td>\n      <td>M01-204</td>\n    </tr>\n    <tr>\n      <th>367</th>\n      <td>GR0302</td>\n      <td>GR</td>\n      <td>中文(下)</td>\n      <td>1</td>\n      <td>A</td>\n      <td>白崢勇</td>\n      <td>[[1, 5], [1, 6]]</td>\n      <td>True</td>\n      <td>2</td>\n      <td>B01-106</td>\n    </tr>\n    <tr>\n      <th>368</th>\n      <td>GR0402</td>\n      <td>GR</td>\n      <td>中文(下)</td>\n      <td>1</td>\n      <td>A</td>\n      <td>賴素玫</td>\n      <td>[[3, 5], [3, 6]]</td>\n      <td>True</td>\n      <td>2</td>\n      <td>L02-101</td>\n    </tr>\n    <tr>\n      <th>369</th>\n      <td>GR0502</td>\n      <td>GR</td>\n      <td>中文(下)</td>\n      <td>1</td>\n      <td>A</td>\n      <td>賴素玫</td>\n      <td>[[3, 7], [3, 8]]</td>\n      <td>True</td>\n      <td>2</td>\n      <td>L02-101</td>\n    </tr>\n    <tr>\n      <th>370</th>\n      <td>GR0602</td>\n      <td>GR</td>\n      <td>中文(下)</td>\n      <td>1</td>\n      <td>A</td>\n      <td>高美芸</td>\n      <td>[[4, 5], [4, 6]]</td>\n      <td>True</td>\n      <td>2</td>\n      <td>L01-101</td>\n    </tr>\n    <tr>\n      <th>371</th>\n      <td>GR0702</td>\n      <td>GR</td>\n      <td>中文(下)</td>\n      <td>1</td>\n      <td>A</td>\n      <td>趙翊彤</td>\n      <td>[[1, 5], [1, 6]]</td>\n      <td>True</td>\n      <td>2</td>\n      <td>B01-103</td>\n    </tr>\n    <tr>\n      <th>372</th>\n      <td>GR1702</td>\n      <td>GR</td>\n      <td>中文(下)</td>\n      <td>1</td>\n      <td>A</td>\n      <td>趙翊彤</td>\n      <td>[[1, 7], [1, 8]]</td>\n      <td>True</td>\n      <td>2</td>\n      <td>B01-103</td>\n    </tr>\n    <tr>\n      <th>373</th>\n      <td>GR2102</td>\n      <td>GR</td>\n      <td>中文(下)</td>\n      <td>1</td>\n      <td>A</td>\n      <td>林于盛</td>\n      <td>[[3, 1], [3, 2]]</td>\n      <td>True</td>\n      <td>2</td>\n      <td>B01-107</td>\n    </tr>\n    <tr>\n      <th>374</th>\n      <td>GR2202</td>\n      <td>GR</td>\n      <td>中文(下)</td>\n      <td>1</td>\n      <td>A</td>\n      <td>林于盛</td>\n      <td>[[3, 3], [3, 4]]</td>\n      <td>True</td>\n      <td>2</td>\n      <td>B01-107</td>\n    </tr>\n    <tr>\n      <th>375</th>\n      <td>GR2302</td>\n      <td>GR</td>\n      <td>中文(下)</td>\n      <td>1</td>\n      <td>A</td>\n      <td>陳猷青</td>\n      <td>[[5, 5], [5, 6]]</td>\n      <td>True</td>\n      <td>2</td>\n      <td>B01-108</td>\n    </tr>\n    <tr>\n      <th>376</th>\n      <td>GR3102</td>\n      <td>GR</td>\n      <td>中文(下)</td>\n      <td>1</td>\n      <td>A</td>\n      <td>黃淑瑮</td>\n      <td>[[3, 7], [3, 8]]</td>\n      <td>True</td>\n      <td>2</td>\n      <td>B01-107</td>\n    </tr>\n    <tr>\n      <th>377</th>\n      <td>GR3202</td>\n      <td>GR</td>\n      <td>中文(下)</td>\n      <td>1</td>\n      <td>A</td>\n      <td>蔡文彥</td>\n      <td>[[3, 5], [3, 6]]</td>\n      <td>True</td>\n      <td>2</td>\n      <td>B01-108</td>\n    </tr>\n    <tr>\n      <th>378</th>\n      <td>GR3302</td>\n      <td>GR</td>\n      <td>中文(下)</td>\n      <td>1</td>\n      <td>A</td>\n      <td>蔡文彥</td>\n      <td>[[5, 1], [5, 2]]</td>\n      <td>True</td>\n      <td>2</td>\n      <td>B01-108</td>\n    </tr>\n    <tr>\n      <th>379</th>\n      <td>GR4102</td>\n      <td>GR</td>\n      <td>中文(下)</td>\n      <td>1</td>\n      <td>A</td>\n      <td>郭國泰</td>\n      <td>[[4, 3], [4, 4]]</td>\n      <td>True</td>\n      <td>2</td>\n      <td>B01-107</td>\n    </tr>\n    <tr>\n      <th>380</th>\n      <td>GR4202</td>\n      <td>GR</td>\n      <td>中文(下)</td>\n      <td>1</td>\n      <td>A</td>\n      <td>郭國泰</td>\n      <td>[[4, 5], [4, 6]]</td>\n      <td>True</td>\n      <td>2</td>\n      <td>B01-107</td>\n    </tr>\n    <tr>\n      <th>381</th>\n      <td>GR5302</td>\n      <td>GR</td>\n      <td>中文(下)</td>\n      <td>1</td>\n      <td>A</td>\n      <td>白崢勇</td>\n      <td>[[3, 5], [3, 6]]</td>\n      <td>True</td>\n      <td>2</td>\n      <td>B01-106</td>\n    </tr>\n    <tr>\n      <th>382</th>\n      <td>GR5402</td>\n      <td>GR</td>\n      <td>中文(下)</td>\n      <td>1</td>\n      <td>A</td>\n      <td>白崢勇</td>\n      <td>[[3, 7], [3, 8]]</td>\n      <td>True</td>\n      <td>2</td>\n      <td>B01-106</td>\n    </tr>\n    <tr>\n      <th>383</th>\n      <td>GR5502</td>\n      <td>GR</td>\n      <td>中文(下)</td>\n      <td>1</td>\n      <td>A</td>\n      <td>喻緒琪</td>\n      <td>[[1, 9], [1, 10]]</td>\n      <td>True</td>\n      <td>2</td>\n      <td>B01-108</td>\n    </tr>\n    <tr>\n      <th>384</th>\n      <td>GR5602</td>\n      <td>GR</td>\n      <td>中文(下)</td>\n      <td>1</td>\n      <td>A</td>\n      <td>喻緒琪</td>\n      <td>[[1, 11], [1, 12]]</td>\n      <td>True</td>\n      <td>2</td>\n      <td>B01-108</td>\n    </tr>\n    <tr>\n      <th>385</th>\n      <td>GR6302</td>\n      <td>GR</td>\n      <td>中文(下)</td>\n      <td>1</td>\n      <td>A</td>\n      <td>許正平</td>\n      <td>[[3, 5], [3, 6]]</td>\n      <td>True</td>\n      <td>2</td>\n      <td>M01-102</td>\n    </tr>\n  </tbody>\n</table>\n</div>"
     },
     "metadata": {},
     "execution_count": 14
    }
   ],
   "source": [
    "df_allCourse[df_allCourse['name'] == ' 中文(下)']"
   ]
  },
  {
   "cell_type": "code",
   "execution_count": 15,
   "metadata": {},
   "outputs": [
    {
     "output_type": "execute_result",
     "data": {
      "text/plain": [
       "         id dept             name grade class teacher            period  \\\n",
       "387  GRA0AA   GR   英語會話與閱讀(下)：高階班     1     A     王嵩嵐  [[1, 5], [1, 6]]   \n",
       "388  GRA0AB   GR   英語會話與閱讀(下)：高階班     1     A     陳麗青  [[3, 5], [3, 6]]   \n",
       "389  GRA0AC   GR   英語會話與閱讀(下)：高階班     1     A     顏正裕  [[1, 5], [1, 6]]   \n",
       "390  GRA0AD   GR   英語會話與閱讀(下)：高階班     1     A     顏正裕  [[1, 7], [1, 8]]   \n",
       "391  GRA0AE   GR   英語會話與閱讀(下)：高階班     1     A     歐素雯  [[3, 5], [3, 6]]   \n",
       "\n",
       "     category credit location  \n",
       "387      True      2  H1--102  \n",
       "388      True      2  H1--102  \n",
       "389      True      2  B01-101  \n",
       "390      True      2  B01-101  \n",
       "391      True      2  B01-101  "
      ],
      "text/html": "<div>\n<style scoped>\n    .dataframe tbody tr th:only-of-type {\n        vertical-align: middle;\n    }\n\n    .dataframe tbody tr th {\n        vertical-align: top;\n    }\n\n    .dataframe thead th {\n        text-align: right;\n    }\n</style>\n<table border=\"1\" class=\"dataframe\">\n  <thead>\n    <tr style=\"text-align: right;\">\n      <th></th>\n      <th>id</th>\n      <th>dept</th>\n      <th>name</th>\n      <th>grade</th>\n      <th>class</th>\n      <th>teacher</th>\n      <th>period</th>\n      <th>category</th>\n      <th>credit</th>\n      <th>location</th>\n    </tr>\n  </thead>\n  <tbody>\n    <tr>\n      <th>387</th>\n      <td>GRA0AA</td>\n      <td>GR</td>\n      <td>英語會話與閱讀(下)：高階班</td>\n      <td>1</td>\n      <td>A</td>\n      <td>王嵩嵐</td>\n      <td>[[1, 5], [1, 6]]</td>\n      <td>True</td>\n      <td>2</td>\n      <td>H1--102</td>\n    </tr>\n    <tr>\n      <th>388</th>\n      <td>GRA0AB</td>\n      <td>GR</td>\n      <td>英語會話與閱讀(下)：高階班</td>\n      <td>1</td>\n      <td>A</td>\n      <td>陳麗青</td>\n      <td>[[3, 5], [3, 6]]</td>\n      <td>True</td>\n      <td>2</td>\n      <td>H1--102</td>\n    </tr>\n    <tr>\n      <th>389</th>\n      <td>GRA0AC</td>\n      <td>GR</td>\n      <td>英語會話與閱讀(下)：高階班</td>\n      <td>1</td>\n      <td>A</td>\n      <td>顏正裕</td>\n      <td>[[1, 5], [1, 6]]</td>\n      <td>True</td>\n      <td>2</td>\n      <td>B01-101</td>\n    </tr>\n    <tr>\n      <th>390</th>\n      <td>GRA0AD</td>\n      <td>GR</td>\n      <td>英語會話與閱讀(下)：高階班</td>\n      <td>1</td>\n      <td>A</td>\n      <td>顏正裕</td>\n      <td>[[1, 7], [1, 8]]</td>\n      <td>True</td>\n      <td>2</td>\n      <td>B01-101</td>\n    </tr>\n    <tr>\n      <th>391</th>\n      <td>GRA0AE</td>\n      <td>GR</td>\n      <td>英語會話與閱讀(下)：高階班</td>\n      <td>1</td>\n      <td>A</td>\n      <td>歐素雯</td>\n      <td>[[3, 5], [3, 6]]</td>\n      <td>True</td>\n      <td>2</td>\n      <td>B01-101</td>\n    </tr>\n  </tbody>\n</table>\n</div>"
     },
     "metadata": {},
     "execution_count": 15
    }
   ],
   "source": [
    "df_allCourse[df_allCourse['name'] == ' 英語會話與閱讀(下)：高階班']"
   ]
  },
  {
   "cell_type": "code",
   "execution_count": 16,
   "metadata": {},
   "outputs": [
    {
     "output_type": "execute_result",
     "data": {
      "text/plain": [
       "         id dept             name grade class teacher            period  \\\n",
       "392  GRA0BA   GR   英語會話與閱讀(下)：中階班     1     A     蔡奎如  [[1, 5], [1, 6]]   \n",
       "393  GRA0BB   GR   英語會話與閱讀(下)：中階班     1     A     蔡奎如  [[1, 7], [1, 8]]   \n",
       "394  GRA0BC   GR   英語會話與閱讀(下)：中階班     1     A     蔡奎如  [[3, 5], [3, 6]]   \n",
       "395  GRA0BD   GR   英語會話與閱讀(下)：中階班     1     A     蔡奎如  [[3, 7], [3, 8]]   \n",
       "396  GRA0BE   GR   英語會話與閱讀(下)：中階班     1     A     許建華  [[1, 5], [1, 6]]   \n",
       "397  GRA0BF   GR   英語會話與閱讀(下)：中階班     1     A     許建華  [[1, 7], [1, 8]]   \n",
       "398  GRA0BG   GR   英語會話與閱讀(下)：中階班     1     A     陳信智  [[3, 5], [3, 6]]   \n",
       "399  GRA0BH   GR   英語會話與閱讀(下)：中階班     1     A     陳信智  [[3, 7], [3, 8]]   \n",
       "400  GRA0BI   GR   英語會話與閱讀(下)：中階班     1     A     王靜嫻  [[1, 7], [1, 8]]   \n",
       "\n",
       "     category credit location  \n",
       "392      True      2  M01-206  \n",
       "393      True      2  M01-206  \n",
       "394      True      2  M01-206  \n",
       "395      True      2  M01-206  \n",
       "396      True      2  B01-110  \n",
       "397      True      2  B01-110  \n",
       "398      True      2  B01-110  \n",
       "399      True      2  B01-110  \n",
       "400      True      2  B01-107  "
      ],
      "text/html": "<div>\n<style scoped>\n    .dataframe tbody tr th:only-of-type {\n        vertical-align: middle;\n    }\n\n    .dataframe tbody tr th {\n        vertical-align: top;\n    }\n\n    .dataframe thead th {\n        text-align: right;\n    }\n</style>\n<table border=\"1\" class=\"dataframe\">\n  <thead>\n    <tr style=\"text-align: right;\">\n      <th></th>\n      <th>id</th>\n      <th>dept</th>\n      <th>name</th>\n      <th>grade</th>\n      <th>class</th>\n      <th>teacher</th>\n      <th>period</th>\n      <th>category</th>\n      <th>credit</th>\n      <th>location</th>\n    </tr>\n  </thead>\n  <tbody>\n    <tr>\n      <th>392</th>\n      <td>GRA0BA</td>\n      <td>GR</td>\n      <td>英語會話與閱讀(下)：中階班</td>\n      <td>1</td>\n      <td>A</td>\n      <td>蔡奎如</td>\n      <td>[[1, 5], [1, 6]]</td>\n      <td>True</td>\n      <td>2</td>\n      <td>M01-206</td>\n    </tr>\n    <tr>\n      <th>393</th>\n      <td>GRA0BB</td>\n      <td>GR</td>\n      <td>英語會話與閱讀(下)：中階班</td>\n      <td>1</td>\n      <td>A</td>\n      <td>蔡奎如</td>\n      <td>[[1, 7], [1, 8]]</td>\n      <td>True</td>\n      <td>2</td>\n      <td>M01-206</td>\n    </tr>\n    <tr>\n      <th>394</th>\n      <td>GRA0BC</td>\n      <td>GR</td>\n      <td>英語會話與閱讀(下)：中階班</td>\n      <td>1</td>\n      <td>A</td>\n      <td>蔡奎如</td>\n      <td>[[3, 5], [3, 6]]</td>\n      <td>True</td>\n      <td>2</td>\n      <td>M01-206</td>\n    </tr>\n    <tr>\n      <th>395</th>\n      <td>GRA0BD</td>\n      <td>GR</td>\n      <td>英語會話與閱讀(下)：中階班</td>\n      <td>1</td>\n      <td>A</td>\n      <td>蔡奎如</td>\n      <td>[[3, 7], [3, 8]]</td>\n      <td>True</td>\n      <td>2</td>\n      <td>M01-206</td>\n    </tr>\n    <tr>\n      <th>396</th>\n      <td>GRA0BE</td>\n      <td>GR</td>\n      <td>英語會話與閱讀(下)：中階班</td>\n      <td>1</td>\n      <td>A</td>\n      <td>許建華</td>\n      <td>[[1, 5], [1, 6]]</td>\n      <td>True</td>\n      <td>2</td>\n      <td>B01-110</td>\n    </tr>\n    <tr>\n      <th>397</th>\n      <td>GRA0BF</td>\n      <td>GR</td>\n      <td>英語會話與閱讀(下)：中階班</td>\n      <td>1</td>\n      <td>A</td>\n      <td>許建華</td>\n      <td>[[1, 7], [1, 8]]</td>\n      <td>True</td>\n      <td>2</td>\n      <td>B01-110</td>\n    </tr>\n    <tr>\n      <th>398</th>\n      <td>GRA0BG</td>\n      <td>GR</td>\n      <td>英語會話與閱讀(下)：中階班</td>\n      <td>1</td>\n      <td>A</td>\n      <td>陳信智</td>\n      <td>[[3, 5], [3, 6]]</td>\n      <td>True</td>\n      <td>2</td>\n      <td>B01-110</td>\n    </tr>\n    <tr>\n      <th>399</th>\n      <td>GRA0BH</td>\n      <td>GR</td>\n      <td>英語會話與閱讀(下)：中階班</td>\n      <td>1</td>\n      <td>A</td>\n      <td>陳信智</td>\n      <td>[[3, 7], [3, 8]]</td>\n      <td>True</td>\n      <td>2</td>\n      <td>B01-110</td>\n    </tr>\n    <tr>\n      <th>400</th>\n      <td>GRA0BI</td>\n      <td>GR</td>\n      <td>英語會話與閱讀(下)：中階班</td>\n      <td>1</td>\n      <td>A</td>\n      <td>王靜嫻</td>\n      <td>[[1, 7], [1, 8]]</td>\n      <td>True</td>\n      <td>2</td>\n      <td>B01-107</td>\n    </tr>\n  </tbody>\n</table>\n</div>"
     },
     "metadata": {},
     "execution_count": 16
    }
   ],
   "source": [
    "df_allCourse[df_allCourse['name'] == ' 英語會話與閱讀(下)：中階班']"
   ]
  },
  {
   "cell_type": "code",
   "execution_count": 17,
   "metadata": {},
   "outputs": [
    {
     "output_type": "execute_result",
     "data": {
      "text/plain": [
       "         id dept             name grade class teacher             period  \\\n",
       "407  GRA1CA   GR   英語會話與閱讀(下)：初階班     1     A     楊淑華   [[1, 5], [1, 6]]   \n",
       "408  GRA1CB   GR   英語會話與閱讀(下)：初階班     1     A     楊淑華   [[1, 7], [1, 8]]   \n",
       "409  GRA1CC   GR   英語會話與閱讀(下)：初階班     1     A     唐淑芳   [[3, 5], [3, 6]]   \n",
       "410  GRA1CD   GR   英語會話與閱讀(下)：初階班     1     A     翁嵐瑜   [[3, 5], [3, 6]]   \n",
       "411  GRA1CE   GR   英語會話與閱讀(下)：初階班     1     A     邱玉萍   [[3, 7], [3, 8]]   \n",
       "412  GRA1CF   GR   英語會話與閱讀(下)：初階班     1     A     曾雅惠   [[1, 7], [1, 8]]   \n",
       "413  GRA1CG   GR   英語會話與閱讀(下)：初階班     1     A     唐淑芳   [[3, 7], [3, 8]]   \n",
       "414  GRA1CH   GR   英語會話與閱讀(下)：初階班     1     A     邱玉萍  [[4, 9], [4, 10]]   \n",
       "415  GRA1CI   GR   英語會話與閱讀(下)：初階班     1     A     曾雅惠   [[1, 5], [1, 6]]   \n",
       "\n",
       "     category credit location  \n",
       "407      True      2  B01-105  \n",
       "408      True      2  B01-105  \n",
       "409      True      2  B01-104  \n",
       "410      True      2  B01-103  \n",
       "411      True      2  B01-108  \n",
       "412      True      2  B01-108  \n",
       "413      True      2  B01-104  \n",
       "414      True      2  B01-108  \n",
       "415      True      2  B01-108  "
      ],
      "text/html": "<div>\n<style scoped>\n    .dataframe tbody tr th:only-of-type {\n        vertical-align: middle;\n    }\n\n    .dataframe tbody tr th {\n        vertical-align: top;\n    }\n\n    .dataframe thead th {\n        text-align: right;\n    }\n</style>\n<table border=\"1\" class=\"dataframe\">\n  <thead>\n    <tr style=\"text-align: right;\">\n      <th></th>\n      <th>id</th>\n      <th>dept</th>\n      <th>name</th>\n      <th>grade</th>\n      <th>class</th>\n      <th>teacher</th>\n      <th>period</th>\n      <th>category</th>\n      <th>credit</th>\n      <th>location</th>\n    </tr>\n  </thead>\n  <tbody>\n    <tr>\n      <th>407</th>\n      <td>GRA1CA</td>\n      <td>GR</td>\n      <td>英語會話與閱讀(下)：初階班</td>\n      <td>1</td>\n      <td>A</td>\n      <td>楊淑華</td>\n      <td>[[1, 5], [1, 6]]</td>\n      <td>True</td>\n      <td>2</td>\n      <td>B01-105</td>\n    </tr>\n    <tr>\n      <th>408</th>\n      <td>GRA1CB</td>\n      <td>GR</td>\n      <td>英語會話與閱讀(下)：初階班</td>\n      <td>1</td>\n      <td>A</td>\n      <td>楊淑華</td>\n      <td>[[1, 7], [1, 8]]</td>\n      <td>True</td>\n      <td>2</td>\n      <td>B01-105</td>\n    </tr>\n    <tr>\n      <th>409</th>\n      <td>GRA1CC</td>\n      <td>GR</td>\n      <td>英語會話與閱讀(下)：初階班</td>\n      <td>1</td>\n      <td>A</td>\n      <td>唐淑芳</td>\n      <td>[[3, 5], [3, 6]]</td>\n      <td>True</td>\n      <td>2</td>\n      <td>B01-104</td>\n    </tr>\n    <tr>\n      <th>410</th>\n      <td>GRA1CD</td>\n      <td>GR</td>\n      <td>英語會話與閱讀(下)：初階班</td>\n      <td>1</td>\n      <td>A</td>\n      <td>翁嵐瑜</td>\n      <td>[[3, 5], [3, 6]]</td>\n      <td>True</td>\n      <td>2</td>\n      <td>B01-103</td>\n    </tr>\n    <tr>\n      <th>411</th>\n      <td>GRA1CE</td>\n      <td>GR</td>\n      <td>英語會話與閱讀(下)：初階班</td>\n      <td>1</td>\n      <td>A</td>\n      <td>邱玉萍</td>\n      <td>[[3, 7], [3, 8]]</td>\n      <td>True</td>\n      <td>2</td>\n      <td>B01-108</td>\n    </tr>\n    <tr>\n      <th>412</th>\n      <td>GRA1CF</td>\n      <td>GR</td>\n      <td>英語會話與閱讀(下)：初階班</td>\n      <td>1</td>\n      <td>A</td>\n      <td>曾雅惠</td>\n      <td>[[1, 7], [1, 8]]</td>\n      <td>True</td>\n      <td>2</td>\n      <td>B01-108</td>\n    </tr>\n    <tr>\n      <th>413</th>\n      <td>GRA1CG</td>\n      <td>GR</td>\n      <td>英語會話與閱讀(下)：初階班</td>\n      <td>1</td>\n      <td>A</td>\n      <td>唐淑芳</td>\n      <td>[[3, 7], [3, 8]]</td>\n      <td>True</td>\n      <td>2</td>\n      <td>B01-104</td>\n    </tr>\n    <tr>\n      <th>414</th>\n      <td>GRA1CH</td>\n      <td>GR</td>\n      <td>英語會話與閱讀(下)：初階班</td>\n      <td>1</td>\n      <td>A</td>\n      <td>邱玉萍</td>\n      <td>[[4, 9], [4, 10]]</td>\n      <td>True</td>\n      <td>2</td>\n      <td>B01-108</td>\n    </tr>\n    <tr>\n      <th>415</th>\n      <td>GRA1CI</td>\n      <td>GR</td>\n      <td>英語會話與閱讀(下)：初階班</td>\n      <td>1</td>\n      <td>A</td>\n      <td>曾雅惠</td>\n      <td>[[1, 5], [1, 6]]</td>\n      <td>True</td>\n      <td>2</td>\n      <td>B01-108</td>\n    </tr>\n  </tbody>\n</table>\n</div>"
     },
     "metadata": {},
     "execution_count": 17
    }
   ],
   "source": [
    "df_allCourse[df_allCourse['name'] == ' 英語會話與閱讀(下)：初階班']"
   ]
  },
  {
   "cell_type": "markdown",
   "metadata": {},
   "source": [
    "## 總課程分析(時段)\n",
    "* 真無聊\n",
    "* 應用 : 分析學校人流"
   ]
  },
  {
   "cell_type": "code",
   "execution_count": 18,
   "metadata": {},
   "outputs": [
    {
     "output_type": "execute_result",
     "data": {
      "text/plain": [
       "{'AB',\n",
       " 'AC',\n",
       " 'AE',\n",
       " 'AM',\n",
       " 'AP',\n",
       " 'CC',\n",
       " 'CCD',\n",
       " 'CCM',\n",
       " 'CD',\n",
       " 'CDA',\n",
       " 'CE',\n",
       " 'CHS',\n",
       " 'CM',\n",
       " 'CS',\n",
       " 'DA',\n",
       " 'DAP',\n",
       " 'EE',\n",
       " 'EL',\n",
       " 'FI',\n",
       " 'FL',\n",
       " 'GL',\n",
       " 'GR',\n",
       " 'IFD',\n",
       " 'IM',\n",
       " 'KH',\n",
       " 'LA',\n",
       " 'LI',\n",
       " 'LS',\n",
       " 'SC',\n",
       " 'SO',\n",
       " 'WL'}"
      ]
     },
     "metadata": {},
     "execution_count": 18
    }
   ],
   "source": [
    "set(df_allCourse.dept)"
   ]
  },
  {
   "cell_type": "code",
   "execution_count": 23,
   "metadata": {},
   "outputs": [
    {
     "output_type": "execute_result",
     "data": {
      "text/plain": [
       "      Mon  Tue  Wed  Thur  Fri  Sat\n",
       "0.0    65    6    1     1    0    0\n",
       "1.0    16   31   12    11   11    5\n",
       "2.0    63   82   79    72   58    6\n",
       "3.0    77  106  103    92   74    7\n",
       "4.0    75  104  102    91   72    7\n",
       "4.5     0    3    2     1    0    4\n",
       "5.0    80   74   62    79   43    4\n",
       "6.0    92   83   65   101   55    4\n",
       "7.0    80   62   67   101   51    4\n",
       "8.0    50    8   45    67   34    3\n",
       "9.0    20    8   20    22   13    0\n",
       "10.0   15   15   12    23    9    0\n",
       "11.0   10   12    9    15    6    0\n",
       "12.0    7    4    4     6    2    0\n",
       "13.0    0    0    0     1    1    0"
      ],
      "text/html": "<div>\n<style scoped>\n    .dataframe tbody tr th:only-of-type {\n        vertical-align: middle;\n    }\n\n    .dataframe tbody tr th {\n        vertical-align: top;\n    }\n\n    .dataframe thead th {\n        text-align: right;\n    }\n</style>\n<table border=\"1\" class=\"dataframe\">\n  <thead>\n    <tr style=\"text-align: right;\">\n      <th></th>\n      <th>Mon</th>\n      <th>Tue</th>\n      <th>Wed</th>\n      <th>Thur</th>\n      <th>Fri</th>\n      <th>Sat</th>\n    </tr>\n  </thead>\n  <tbody>\n    <tr>\n      <th>0.0</th>\n      <td>65</td>\n      <td>6</td>\n      <td>1</td>\n      <td>1</td>\n      <td>0</td>\n      <td>0</td>\n    </tr>\n    <tr>\n      <th>1.0</th>\n      <td>16</td>\n      <td>31</td>\n      <td>12</td>\n      <td>11</td>\n      <td>11</td>\n      <td>5</td>\n    </tr>\n    <tr>\n      <th>2.0</th>\n      <td>63</td>\n      <td>82</td>\n      <td>79</td>\n      <td>72</td>\n      <td>58</td>\n      <td>6</td>\n    </tr>\n    <tr>\n      <th>3.0</th>\n      <td>77</td>\n      <td>106</td>\n      <td>103</td>\n      <td>92</td>\n      <td>74</td>\n      <td>7</td>\n    </tr>\n    <tr>\n      <th>4.0</th>\n      <td>75</td>\n      <td>104</td>\n      <td>102</td>\n      <td>91</td>\n      <td>72</td>\n      <td>7</td>\n    </tr>\n    <tr>\n      <th>4.5</th>\n      <td>0</td>\n      <td>3</td>\n      <td>2</td>\n      <td>1</td>\n      <td>0</td>\n      <td>4</td>\n    </tr>\n    <tr>\n      <th>5.0</th>\n      <td>80</td>\n      <td>74</td>\n      <td>62</td>\n      <td>79</td>\n      <td>43</td>\n      <td>4</td>\n    </tr>\n    <tr>\n      <th>6.0</th>\n      <td>92</td>\n      <td>83</td>\n      <td>65</td>\n      <td>101</td>\n      <td>55</td>\n      <td>4</td>\n    </tr>\n    <tr>\n      <th>7.0</th>\n      <td>80</td>\n      <td>62</td>\n      <td>67</td>\n      <td>101</td>\n      <td>51</td>\n      <td>4</td>\n    </tr>\n    <tr>\n      <th>8.0</th>\n      <td>50</td>\n      <td>8</td>\n      <td>45</td>\n      <td>67</td>\n      <td>34</td>\n      <td>3</td>\n    </tr>\n    <tr>\n      <th>9.0</th>\n      <td>20</td>\n      <td>8</td>\n      <td>20</td>\n      <td>22</td>\n      <td>13</td>\n      <td>0</td>\n    </tr>\n    <tr>\n      <th>10.0</th>\n      <td>15</td>\n      <td>15</td>\n      <td>12</td>\n      <td>23</td>\n      <td>9</td>\n      <td>0</td>\n    </tr>\n    <tr>\n      <th>11.0</th>\n      <td>10</td>\n      <td>12</td>\n      <td>9</td>\n      <td>15</td>\n      <td>6</td>\n      <td>0</td>\n    </tr>\n    <tr>\n      <th>12.0</th>\n      <td>7</td>\n      <td>4</td>\n      <td>4</td>\n      <td>6</td>\n      <td>2</td>\n      <td>0</td>\n    </tr>\n    <tr>\n      <th>13.0</th>\n      <td>0</td>\n      <td>0</td>\n      <td>0</td>\n      <td>1</td>\n      <td>1</td>\n      <td>0</td>\n    </tr>\n  </tbody>\n</table>\n</div>"
     },
     "metadata": {},
     "execution_count": 23
    }
   ],
   "source": [
    "course_time = {}\n",
    "for period in df_allCourse.period:\n",
    "    for time in period:\n",
    "        if (time[0], time[1]) in course_time:\n",
    "            course_time[(time[0], time[1])] += 1\n",
    "        else:\n",
    "            course_time[(time[0], time[1])] = 1\n",
    "\n",
    "course_time = pd.Series(course_time)\n",
    "course_time = course_time.sort_index()\n",
    "\n",
    "df = pd.DataFrame({'Mon':course_time[(1)], 'Tue':course_time[(2)], 'Wed':course_time[(3)], 'Thur':course_time[(4)], 'Fri':course_time[(5)], 'Sat':course_time[(6)]})\n",
    "\n",
    "df = df.fillna(0).astype('int64')\n",
    "df"
   ]
  },
  {
   "cell_type": "markdown",
   "metadata": {},
   "source": [
    "## Category 分類"
   ]
  },
  {
   "cell_type": "code",
   "execution_count": 29,
   "metadata": {},
   "outputs": [],
   "source": [
    "jsonObj = open('class_code.json','r', encoding='utf-8')\n",
    "class_code = json.load(jsonObj)"
   ]
  },
  {
   "cell_type": "code",
   "execution_count": 30,
   "metadata": {},
   "outputs": [
    {
     "output_type": "execute_result",
     "data": {
      "text/plain": [
       "[{'text': '通識微學分', 'code': 'MI'},\n",
       " {'text': '共同必修系列', 'code': 'GR'},\n",
       " {'text': '核心通識', 'code': 'CC'},\n",
       " {'text': '通識人文科學類', 'code': 'LI'},\n",
       " {'text': '通識自然科學類', 'code': 'SC'},\n",
       " {'text': '通識社會科學類', 'code': 'SO'},\n",
       " {'text': '全民國防教育類', 'code': 'CD'},\n",
       " {'text': '興趣選修', 'code': 'IN'},\n",
       " {'text': '西洋語文學系', 'code': 'wl'},\n",
       " {'text': '運動健康與休閒學系', 'code': 'kh'},\n",
       " {'text': '工藝與創意設計學系', 'code': 'CCD'},\n",
       " {'text': '建築學系', 'code': 'DA'},\n",
       " {'text': '創意設計與建築學系', 'code': 'CDA'},\n",
       " {'text': '東亞語文學系', 'code': 'EL'},\n",
       " {'text': '運動競技學系', 'code': 'DAP'},\n",
       " {'text': '人文社會科學院共同課程', 'code': 'CHS'},\n",
       " {'text': '法律學系', 'code': 'la'},\n",
       " {'text': '政治法律學系', 'code': 'GL'},\n",
       " {'text': '財經法律學系', 'code': 'fl'},\n",
       " {'text': '法學院共同課程', 'code': 'CCL'},\n",
       " {'text': '應用經濟學系', 'code': 'ae'},\n",
       " {'text': '金融管理學系', 'code': 'FI'},\n",
       " {'text': '資訊管理學系', 'code': 'IM'},\n",
       " {'text': '管理學院共同課程', 'code': 'CCM'},\n",
       " {'text': '應用數學系', 'code': 'am'},\n",
       " {'text': '應用化學系', 'code': 'ac'},\n",
       " {'text': '應用物理學系', 'code': 'AP'},\n",
       " {'text': '理學院共同課程', 'code': 'CCS'},\n",
       " {'text': '電機工程學系', 'code': 'ee'},\n",
       " {'text': '土木與環境工程學系', 'code': 'CE'},\n",
       " {'text': '資訊工程學系', 'code': 'CS'},\n",
       " {'text': '化學工程及材料工程學系', 'code': 'CM'},\n",
       " {'text': '生命科學系', 'code': 'ls'},\n",
       " {'text': '亞太工商管理學系', 'code': 'ab'},\n",
       " {'text': '國際學生系', 'code': 'ISP'},\n",
       " {'text': '創新學院不分系', 'code': 'IFD'}]"
      ]
     },
     "metadata": {},
     "execution_count": 30
    }
   ],
   "source": [
    "class_code"
   ]
  },
  {
   "cell_type": "markdown",
   "metadata": {},
   "source": [
    "## 做 ABC category 分類"
   ]
  },
  {
   "cell_type": "code",
   "execution_count": 31,
   "metadata": {},
   "outputs": [],
   "source": [
    "# A1 系上必修 : \n",
    "# A2 系上選修 : \n",
    "# A3 共同必修 : 'GR'\n",
    "\n",
    "# B1 核心通識 思維方法 : 'CC'\n",
    "# B2 核心通識 美學素養 : 'CC'\n",
    "# B3 核心通識 公民素養 : 'CC'\n",
    "# B4 核心通識 文化素養 : 'CC'\n",
    "# B5 核心通識 科學素養 : 'CC'\n",
    "# B6 核心通識 倫理素養 : 'CC'\n",
    "\n",
    "# C1 博雅通識 人文科學 : 'LI'\n",
    "# C2 博雅通識 社會科學 : 'SO'\n",
    "# C3 博雅通識 自然科學 : 'SC'"
   ]
  },
  {
   "cell_type": "code",
   "execution_count": 32,
   "metadata": {},
   "outputs": [],
   "source": [
    "# 做 A,C 的分類\n",
    "df_allCourse.loc[df_allCourse.dept == 'LI', 'category'] = 'C1'\n",
    "df_allCourse.loc[df_allCourse.dept == 'SO', 'category'] = 'C2'\n",
    "df_allCourse.loc[df_allCourse.dept == 'SC', 'category'] = 'C3'\n",
    "df_allCourse.loc[df_allCourse.dept == 'GR', 'category'] = 'A3'\n",
    "df_allCourse.loc[df_allCourse.dept == 'CC', 'category'] = 'B'\n",
    "df_allCourse.loc[df_allCourse.category == True, 'category'] = 'A1'\n",
    "df_allCourse.loc[df_allCourse.category == False, 'category'] = 'A2'"
   ]
  },
  {
   "cell_type": "code",
   "execution_count": 33,
   "metadata": {},
   "outputs": [],
   "source": [
    "# 做 B 的細類\n",
    "# [I1, I2, O3, O4, C5, C6]\n",
    "C5 = []\n",
    "C6 = []\n",
    "I1 = []\n",
    "I2 = []\n",
    "O3 = []\n",
    "O4 = []\n",
    "\n",
    "# df_allCourse.id = 'CCXXXXX'\n",
    "for dd in df_allCourse.id:\n",
    "    I1.append(dd[:4] == 'CCI1')\n",
    "    I2.append(dd[:4] == 'CCI2')\n",
    "    O3.append(dd[:4] == 'CCO3')\n",
    "    O4.append(dd[:4] == 'CCO4')\n",
    "    C5.append(dd[:4] == 'CCC5')\n",
    "    C6.append(dd[:4] == 'CCC6')\n",
    "# CC 內放置各向度的真值表\n",
    "CC = [I1, I2, O3, O4, C5, C6]\n",
    "# .loc[bool_list, column_name] 將會把 bool_list中為True的rows拿出來\n",
    "for i in range(0, 6):\n",
    "    df_allCourse.loc[CC[i], 'category'] = 'B' + str(i + 1)"
   ]
  },
  {
   "cell_type": "code",
   "execution_count": 34,
   "metadata": {},
   "outputs": [
    {
     "output_type": "execute_result",
     "data": {
      "text/plain": [
       "         id dept                    name grade class teacher  \\\n",
       "813  EEA01B   EE                計算機概論(二)     1     A     賴智錦   \n",
       "814  EEA02B   EE                普通物理學(二)     1     A     郭馨徽   \n",
       "815  EEA03B   EE              普通物理學實驗(二)     1     A     施明昌   \n",
       "816  EEA04B   EE                  微積分(二)     1     A     黃祥哲   \n",
       "817  EEA052   EE                  數位邏輯實驗     1     A     洪進華   \n",
       "..      ...  ...                     ...   ...   ...     ...   \n",
       "918  EEF915   EE                射頻主動電路設計     4     B     龐一心   \n",
       "919  EEF963   EE            Java物件導向程式設計     4     B     廖述銘   \n",
       "920  EEG563   EE                 類神經網路導論     4     B     李錫智   \n",
       "921  EEG694   EE             深度學習與智慧型機械人     4     B     吳志宏   \n",
       "922  EEG70A   EE   智慧生活空間資訊截取與運用效能化設計(Ⅰ)     4     B     梁明正   \n",
       "\n",
       "                          period category credit     location  \n",
       "813     [[2, 2], [2, 3], [2, 4]]       A1      3      L01-107  \n",
       "814     [[4, 2], [4, 3], [4, 4]]       A1      3      B01-104  \n",
       "815  [[3, 10], [3, 11], [3, 12]]       A1      1      C01-211  \n",
       "816     [[1, 2], [1, 3], [1, 4]]       A1      3     C01-B104  \n",
       "817     [[5, 2], [5, 3], [5, 4]]       A1      1  C01-201其他教室  \n",
       "..                           ...      ...    ...          ...  \n",
       "918     [[3, 2], [3, 3], [3, 4]]       A2      3      C01-104  \n",
       "919     [[4, 6], [4, 7], [4, 8]]       A2      3      C01-104  \n",
       "920     [[3, 7], [3, 8], [3, 9]]       A2      3   C01-B101-1  \n",
       "921     [[5, 6], [5, 7], [5, 8]]       A2      3      L01-108  \n",
       "922     [[2, 5], [2, 6], [2, 7]]       A2      3     C01-B101  \n",
       "\n",
       "[110 rows x 10 columns]"
      ],
      "text/html": "<div>\n<style scoped>\n    .dataframe tbody tr th:only-of-type {\n        vertical-align: middle;\n    }\n\n    .dataframe tbody tr th {\n        vertical-align: top;\n    }\n\n    .dataframe thead th {\n        text-align: right;\n    }\n</style>\n<table border=\"1\" class=\"dataframe\">\n  <thead>\n    <tr style=\"text-align: right;\">\n      <th></th>\n      <th>id</th>\n      <th>dept</th>\n      <th>name</th>\n      <th>grade</th>\n      <th>class</th>\n      <th>teacher</th>\n      <th>period</th>\n      <th>category</th>\n      <th>credit</th>\n      <th>location</th>\n    </tr>\n  </thead>\n  <tbody>\n    <tr>\n      <th>813</th>\n      <td>EEA01B</td>\n      <td>EE</td>\n      <td>計算機概論(二)</td>\n      <td>1</td>\n      <td>A</td>\n      <td>賴智錦</td>\n      <td>[[2, 2], [2, 3], [2, 4]]</td>\n      <td>A1</td>\n      <td>3</td>\n      <td>L01-107</td>\n    </tr>\n    <tr>\n      <th>814</th>\n      <td>EEA02B</td>\n      <td>EE</td>\n      <td>普通物理學(二)</td>\n      <td>1</td>\n      <td>A</td>\n      <td>郭馨徽</td>\n      <td>[[4, 2], [4, 3], [4, 4]]</td>\n      <td>A1</td>\n      <td>3</td>\n      <td>B01-104</td>\n    </tr>\n    <tr>\n      <th>815</th>\n      <td>EEA03B</td>\n      <td>EE</td>\n      <td>普通物理學實驗(二)</td>\n      <td>1</td>\n      <td>A</td>\n      <td>施明昌</td>\n      <td>[[3, 10], [3, 11], [3, 12]]</td>\n      <td>A1</td>\n      <td>1</td>\n      <td>C01-211</td>\n    </tr>\n    <tr>\n      <th>816</th>\n      <td>EEA04B</td>\n      <td>EE</td>\n      <td>微積分(二)</td>\n      <td>1</td>\n      <td>A</td>\n      <td>黃祥哲</td>\n      <td>[[1, 2], [1, 3], [1, 4]]</td>\n      <td>A1</td>\n      <td>3</td>\n      <td>C01-B104</td>\n    </tr>\n    <tr>\n      <th>817</th>\n      <td>EEA052</td>\n      <td>EE</td>\n      <td>數位邏輯實驗</td>\n      <td>1</td>\n      <td>A</td>\n      <td>洪進華</td>\n      <td>[[5, 2], [5, 3], [5, 4]]</td>\n      <td>A1</td>\n      <td>1</td>\n      <td>C01-201其他教室</td>\n    </tr>\n    <tr>\n      <th>...</th>\n      <td>...</td>\n      <td>...</td>\n      <td>...</td>\n      <td>...</td>\n      <td>...</td>\n      <td>...</td>\n      <td>...</td>\n      <td>...</td>\n      <td>...</td>\n      <td>...</td>\n    </tr>\n    <tr>\n      <th>918</th>\n      <td>EEF915</td>\n      <td>EE</td>\n      <td>射頻主動電路設計</td>\n      <td>4</td>\n      <td>B</td>\n      <td>龐一心</td>\n      <td>[[3, 2], [3, 3], [3, 4]]</td>\n      <td>A2</td>\n      <td>3</td>\n      <td>C01-104</td>\n    </tr>\n    <tr>\n      <th>919</th>\n      <td>EEF963</td>\n      <td>EE</td>\n      <td>Java物件導向程式設計</td>\n      <td>4</td>\n      <td>B</td>\n      <td>廖述銘</td>\n      <td>[[4, 6], [4, 7], [4, 8]]</td>\n      <td>A2</td>\n      <td>3</td>\n      <td>C01-104</td>\n    </tr>\n    <tr>\n      <th>920</th>\n      <td>EEG563</td>\n      <td>EE</td>\n      <td>類神經網路導論</td>\n      <td>4</td>\n      <td>B</td>\n      <td>李錫智</td>\n      <td>[[3, 7], [3, 8], [3, 9]]</td>\n      <td>A2</td>\n      <td>3</td>\n      <td>C01-B101-1</td>\n    </tr>\n    <tr>\n      <th>921</th>\n      <td>EEG694</td>\n      <td>EE</td>\n      <td>深度學習與智慧型機械人</td>\n      <td>4</td>\n      <td>B</td>\n      <td>吳志宏</td>\n      <td>[[5, 6], [5, 7], [5, 8]]</td>\n      <td>A2</td>\n      <td>3</td>\n      <td>L01-108</td>\n    </tr>\n    <tr>\n      <th>922</th>\n      <td>EEG70A</td>\n      <td>EE</td>\n      <td>智慧生活空間資訊截取與運用效能化設計(Ⅰ)</td>\n      <td>4</td>\n      <td>B</td>\n      <td>梁明正</td>\n      <td>[[2, 5], [2, 6], [2, 7]]</td>\n      <td>A2</td>\n      <td>3</td>\n      <td>C01-B101</td>\n    </tr>\n  </tbody>\n</table>\n<p>110 rows × 10 columns</p>\n</div>"
     },
     "metadata": {},
     "execution_count": 34
    }
   ],
   "source": [
    "df_allCourse[df_allCourse['dept'] == 'EE']"
   ]
  },
  {
   "cell_type": "markdown",
   "metadata": {},
   "source": [
    "## 電機AB班合開處理\n",
    "### 電機AB班特性\n",
    "* id, grade, location, teacher, ..., 除了class不同\n",
    "* 目的移除 A 班，將 B 班['class']改成 AB\n",
    "\n",
    "### 使用工具\n",
    "* 使用到 `df.duplicated()` 處理重複項\n",
    "* 使用到 `df.drop_duplicates()` 移除重複項\n",
    "\n",
    "### df.duplicated\n",
    "df.duplicated(subset, keep)\n",
    "* subset : 必須裝東西，裡面可以塞比較的對象，所以不比 'class' 其他都可以\n",
    "* keep : 分別有 'first' & 'last'，前者代表**保留前項==顯示後面為重複項**，後者代表**保留後項==顯示前面為重複項**\n",
    "\n",
    "### df.drop_duplicates\n",
    "df.drop_duplicates(subset, keep)\n",
    "* subset : 必須裝東西，裡面可以塞比較的對象，所以不比 'class' 其他都可以\n",
    "* keep : 分別有 'first' & 'last'，前者代表**保留前項==刪除後面重複項**，後者代表**保留後項==刪除前面重複項**"
   ]
  },
  {
   "cell_type": "code",
   "execution_count": 35,
   "metadata": {},
   "outputs": [
    {
     "output_type": "execute_result",
     "data": {
      "text/plain": [
       "         id dept                    name grade class teacher  \\\n",
       "918  EEF915   EE                射頻主動電路設計     4    AB     龐一心   \n",
       "919  EEF963   EE            Java物件導向程式設計     4    AB     廖述銘   \n",
       "920  EEG563   EE                 類神經網路導論     4    AB     李錫智   \n",
       "921  EEG694   EE             深度學習與智慧型機械人     4    AB     吳志宏   \n",
       "922  EEG70A   EE   智慧生活空間資訊截取與運用效能化設計(Ⅰ)     4    AB     梁明正   \n",
       "\n",
       "                       period category credit    location  \n",
       "918  [[3, 2], [3, 3], [3, 4]]       A2      3     C01-104  \n",
       "919  [[4, 6], [4, 7], [4, 8]]       A2      3     C01-104  \n",
       "920  [[3, 7], [3, 8], [3, 9]]       A2      3  C01-B101-1  \n",
       "921  [[5, 6], [5, 7], [5, 8]]       A2      3     L01-108  \n",
       "922  [[2, 5], [2, 6], [2, 7]]       A2      3    C01-B101  "
      ],
      "text/html": "<div>\n<style scoped>\n    .dataframe tbody tr th:only-of-type {\n        vertical-align: middle;\n    }\n\n    .dataframe tbody tr th {\n        vertical-align: top;\n    }\n\n    .dataframe thead th {\n        text-align: right;\n    }\n</style>\n<table border=\"1\" class=\"dataframe\">\n  <thead>\n    <tr style=\"text-align: right;\">\n      <th></th>\n      <th>id</th>\n      <th>dept</th>\n      <th>name</th>\n      <th>grade</th>\n      <th>class</th>\n      <th>teacher</th>\n      <th>period</th>\n      <th>category</th>\n      <th>credit</th>\n      <th>location</th>\n    </tr>\n  </thead>\n  <tbody>\n    <tr>\n      <th>918</th>\n      <td>EEF915</td>\n      <td>EE</td>\n      <td>射頻主動電路設計</td>\n      <td>4</td>\n      <td>AB</td>\n      <td>龐一心</td>\n      <td>[[3, 2], [3, 3], [3, 4]]</td>\n      <td>A2</td>\n      <td>3</td>\n      <td>C01-104</td>\n    </tr>\n    <tr>\n      <th>919</th>\n      <td>EEF963</td>\n      <td>EE</td>\n      <td>Java物件導向程式設計</td>\n      <td>4</td>\n      <td>AB</td>\n      <td>廖述銘</td>\n      <td>[[4, 6], [4, 7], [4, 8]]</td>\n      <td>A2</td>\n      <td>3</td>\n      <td>C01-104</td>\n    </tr>\n    <tr>\n      <th>920</th>\n      <td>EEG563</td>\n      <td>EE</td>\n      <td>類神經網路導論</td>\n      <td>4</td>\n      <td>AB</td>\n      <td>李錫智</td>\n      <td>[[3, 7], [3, 8], [3, 9]]</td>\n      <td>A2</td>\n      <td>3</td>\n      <td>C01-B101-1</td>\n    </tr>\n    <tr>\n      <th>921</th>\n      <td>EEG694</td>\n      <td>EE</td>\n      <td>深度學習與智慧型機械人</td>\n      <td>4</td>\n      <td>AB</td>\n      <td>吳志宏</td>\n      <td>[[5, 6], [5, 7], [5, 8]]</td>\n      <td>A2</td>\n      <td>3</td>\n      <td>L01-108</td>\n    </tr>\n    <tr>\n      <th>922</th>\n      <td>EEG70A</td>\n      <td>EE</td>\n      <td>智慧生活空間資訊截取與運用效能化設計(Ⅰ)</td>\n      <td>4</td>\n      <td>AB</td>\n      <td>梁明正</td>\n      <td>[[2, 5], [2, 6], [2, 7]]</td>\n      <td>A2</td>\n      <td>3</td>\n      <td>C01-B101</td>\n    </tr>\n  </tbody>\n</table>\n</div>"
     },
     "metadata": {},
     "execution_count": 35
    }
   ],
   "source": [
    "# repeat 為表示合開課堂\n",
    "repeat = df_allCourse[df_allCourse.duplicated(subset = ['id', 'grade', 'location', 'teacher', 'dept'], keep='first')]\n",
    "# 將電機重複項存入 B_class_repeat\n",
    "B_class_repeat = list(repeat.index)\n",
    "# 使用 loc 更改 B -> AB\n",
    "df_allCourse.loc[B_class_repeat, 'class'] = 'AB'\n",
    "# 移除重複項\n",
    "df_allCourse = df_allCourse.drop_duplicates(subset = ['id', 'grade', 'location', 'teacher'], keep='last')\n",
    "# 檢查\n",
    "df_allCourse[df_allCourse['dept'] == 'EE'].tail()"
   ]
  },
  {
   "cell_type": "markdown",
   "metadata": {},
   "source": [
    "## 電機、土環 AB"
   ]
  },
  {
   "cell_type": "code",
   "execution_count": 36,
   "metadata": {},
   "outputs": [],
   "source": [
    "course_dept = list(set(df_allCourse.dept))\n",
    "\n",
    "# 移除電機土環\n",
    "course_dept.remove('CE')\n",
    "course_dept.remove('EE')\n",
    "\n",
    "# 移除非 AB 系統的科系\n",
    "for cd in course_dept:\n",
    "    df_allCourse.loc[df_allCourse.dept == cd, 'class'] = ''"
   ]
  },
  {
   "cell_type": "markdown",
   "metadata": {},
   "source": [
    "## 處理 DataFrame index 問題\n",
    "* 因為有刪除其中內容，使得index數字中斷\n",
    "* 使用 df.reset_index(drop=True)"
   ]
  },
  {
   "cell_type": "code",
   "execution_count": 37,
   "metadata": {},
   "outputs": [],
   "source": [
    "df_allCourse = df_allCourse.reset_index(drop=True)"
   ]
  },
  {
   "cell_type": "markdown",
   "metadata": {},
   "source": [
    "## 將DataFrame轉為JSON\n",
    "* 因為內建df.to_json格式不是原格式\n",
    "### 將 series -> dict\n",
    "* pandas.Series : df.to_dict()"
   ]
  },
  {
   "cell_type": "code",
   "execution_count": 38,
   "metadata": {},
   "outputs": [
    {
     "output_type": "execute_result",
     "data": {
      "text/plain": [
       "{'id': 'AMA02B',\n",
       " 'dept': 'AM',\n",
       " 'name': ' 線性代數（二）',\n",
       " 'grade': '1',\n",
       " 'class': '',\n",
       " 'teacher': '梁育豪',\n",
       " 'period': [[2, 1], [2, 2], [3, 2]],\n",
       " 'category': 'A1',\n",
       " 'credit': '3',\n",
       " 'location': 'C02-407'}"
      ]
     },
     "metadata": {},
     "execution_count": 38
    }
   ],
   "source": [
    "# 示範\n",
    "df_allCourse.loc[1,].to_dict()"
   ]
  },
  {
   "cell_type": "code",
   "execution_count": 39,
   "metadata": {},
   "outputs": [],
   "source": [
    "all_course = [] #總課表\n",
    "\n",
    "# 將各 series 轉為 dict 放置 all_course list\n",
    "for i in range(len(df_allCourse)):\n",
    "    tempCourse = df_allCourse.loc[i,].to_dict()\n",
    "    all_course.append(tempCourse)\n",
    "# 存入 AllCourse_new.json\n",
    "with open('AllCourse_new.json','w',encoding='utf8') as f:\n",
    "    f.write(json.dumps(all_course, ensure_ascii=False).encode(\"utf8\",errors='ignore').decode(\"utf8\",errors='ignore'))"
   ]
  },
  {
   "cell_type": "code",
   "execution_count": null,
   "metadata": {},
   "outputs": [],
   "source": []
  }
 ],
 "metadata": {
  "kernelspec": {
   "display_name": "Python 3",
   "language": "python",
   "name": "python3"
  },
  "language_info": {
   "codemirror_mode": {
    "name": "ipython",
    "version": 3
   },
   "file_extension": ".py",
   "mimetype": "text/x-python",
   "name": "python",
   "nbconvert_exporter": "python",
   "pygments_lexer": "ipython3",
   "version": "3.8.5-final"
  }
 },
 "nbformat": 4,
 "nbformat_minor": 4
}